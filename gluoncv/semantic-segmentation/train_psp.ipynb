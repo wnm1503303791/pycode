{
  "cells": [
    {
      "cell_type": "code",
      "execution_count": null,
      "metadata": {
        "collapsed": false
      },
      "outputs": [],
      "source": [
        "%matplotlib inline"
      ]
    },
    {
      "cell_type": "markdown",
      "metadata": {},
      "source": [
        "5. Train PSPNet on ADE20K Dataset\n=================================\n\nThis is a tutorial of training PSPNet on ADE20K dataset using Gluon Vison.\nThe readers should have basic knowledge of deep learning and should be familiar with Gluon API.\nNew users may first go through `A 60-minute Gluon Crash Course <http://gluon-crash-course.mxnet.io/>`_.\nYou can `Start Training Now`_ or `Dive into Deep`_.\n\nStart Training Now\n~~~~~~~~~~~~~~~~~~\n\n.. hint::\n\n    Feel free to skip the tutorial because the training script is self-complete and ready to launch.\n\n    :download:`Download Full Python Script: train.py<../../../scripts/segmentation/train.py>`\n\n    Example training command::\n\n        CUDA_VISIBLE_DEVICES=0,1,2,3 python train.py --dataset ade20k --model psp --backbone resnet50 --syncbn --epochs 120 --lr 0.01 --checkname mycheckpoint\n\n    For more training command options, please run ``python train.py -h``\n    Please checkout the `model_zoo <../model_zoo/index.html#semantic-segmentation>`_ for training commands of reproducing the pretrained model.\n\nDive into Deep\n~~~~~~~~~~~~~~\n"
      ]
    },
    {
      "cell_type": "code",
      "execution_count": null,
      "metadata": {
        "collapsed": false
      },
      "outputs": [],
      "source": [
        "import numpy as np\nimport mxnet as mx\nfrom mxnet import gluon, autograd\nimport gluoncv"
      ]
    },
    {
      "cell_type": "markdown",
      "metadata": {},
      "source": [
        "Pyramid Scene Parsing Network\n-----------------------------\n\n![](https://hszhao.github.io/projects/pspnet/figures/pspnet.png)\n\n    :width: 80%\n    :align: center\n\n(figure credit to `Zhao et al. <https://arxiv.org/pdf/1612.01105.pdf>`_ )\n\nPyramid Scene Parsing Network (PSPNet) [Zhao17]_  exploit the\ncapability of global context information by different-regionbased\ncontext aggregation through the pyramid pooling module.\n\n\n"
      ]
    },
    {
      "cell_type": "markdown",
      "metadata": {},
      "source": [
        "PSPNet Model\n------------\n\nA Pyramid Pooling Module is built on top of FCN, which combines multiple scale\nfeatures with different receptive field sizes. It pools the featuremaps\ninto different sizes and then concatenating together after upsampling.\n\nThe Pyramid Pooling Module is defined as::\n\n    class _PyramidPooling(HybridBlock):\n        def __init__(self, in_channels, **kwargs):\n            super(_PyramidPooling, self).__init__()\n            out_channels = int(in_channels/4)\n            with self.name_scope():\n                self.conv1 = _PSP1x1Conv(in_channels, out_channels, **kwargs)\n                self.conv2 = _PSP1x1Conv(in_channels, out_channels, **kwargs)\n                self.conv3 = _PSP1x1Conv(in_channels, out_channels, **kwargs)\n                self.conv4 = _PSP1x1Conv(in_channels, out_channels, **kwargs)\n\n        def pool(self, F, x, size):\n            return F.contrib.AdaptiveAvgPooling2D(x, output_size=size)\n\n        def upsample(self, F, x, h, w):\n            return F.contrib.BilinearResize2D(x, height=h, width=w)\n\n        def hybrid_forward(self, F, x):\n            _, _, h, w = x.shape\n            feat1 = self.upsample(F, self.conv1(self.pool(F, x, 1)), h, w)\n            feat2 = self.upsample(F, self.conv2(self.pool(F, x, 2)), h, w)\n            feat3 = self.upsample(F, self.conv3(self.pool(F, x, 3)), h, w)\n            feat4 = self.upsample(F, self.conv4(self.pool(F, x, 4)), h, w)\n            return F.concat(x, feat1, feat2, feat3, feat4, dim=1)\n\nPSPNet model is provided in :class:`gluoncv.model_zoo.PSPNet`. To get\nPSP model using ResNet50 base network for ADE20K dataset:\n\n"
      ]
    },
    {
      "cell_type": "code",
      "execution_count": null,
      "metadata": {
        "collapsed": false
      },
      "outputs": [],
      "source": [
        "model = gluoncv.model_zoo.get_psp(dataset='ade20k', backbone='resnet50', pretrained=False)\nprint(model)"
      ]
    },
    {
      "cell_type": "markdown",
      "metadata": {},
      "source": [
        "Dataset and Data Augmentation\n-----------------------------\n\nimage transform for color normalization\n\n"
      ]
    },
    {
      "cell_type": "code",
      "execution_count": null,
      "metadata": {
        "collapsed": false
      },
      "outputs": [],
      "source": [
        "from mxnet.gluon.data.vision import transforms\ninput_transform = transforms.Compose([\n    transforms.ToTensor(),\n    transforms.Normalize([.485, .456, .406], [.229, .224, .225]),\n])"
      ]
    },
    {
      "cell_type": "markdown",
      "metadata": {},
      "source": [
        "We provide semantic segmentation datasets in :class:`gluoncv.data`.\nFor example, we can easily get the ADE20K dataset:\n\n"
      ]
    },
    {
      "cell_type": "code",
      "execution_count": null,
      "metadata": {
        "collapsed": false
      },
      "outputs": [],
      "source": [
        "trainset = gluoncv.data.ADE20KSegmentation(split='train', transform=input_transform)\nprint('Training images:', len(trainset))\n# set batch_size = 2 for toy example\nbatch_size = 2\n# Create Training Loader\ntrain_data = gluon.data.DataLoader(\n    trainset, batch_size, shuffle=True, last_batch='rollover',\n    num_workers=batch_size)"
      ]
    },
    {
      "cell_type": "markdown",
      "metadata": {},
      "source": [
        "For data augmentation,\nwe follow the standard data augmentation routine to transform the input image\nand the ground truth label map synchronously. (*Note that \"nearest\"\nmode upsample are applied to the label maps to avoid messing up the boundaries.*)\nWe first randomly scale the input image from 0.5 to 2.0 times, then rotate\nthe image from -10 to 10 degrees, and crop the image with padding if needed.\nFinally a random Gaussian blurring is applied.\n\nRandom pick one example for visualization:\n\n"
      ]
    },
    {
      "cell_type": "code",
      "execution_count": null,
      "metadata": {
        "collapsed": false
      },
      "outputs": [],
      "source": [
        "import random\nfrom datetime import datetime\nrandom.seed(datetime.now())\nidx = random.randint(0, len(trainset))\nimg, mask = trainset[idx]\nfrom gluoncv.utils.viz import get_color_pallete, DeNormalize\n# get color pallete for visualize mask\nmask = get_color_pallete(mask.asnumpy(), dataset='ade20k')\nmask.save('mask.png')\n# denormalize the image\nimg = DeNormalize([.485, .456, .406], [.229, .224, .225])(img)\nimg = np.transpose((img.asnumpy()*255).astype(np.uint8), (1, 2, 0))"
      ]
    },
    {
      "cell_type": "markdown",
      "metadata": {},
      "source": [
        "Plot the image and mask\n\n"
      ]
    },
    {
      "cell_type": "code",
      "execution_count": null,
      "metadata": {
        "collapsed": false
      },
      "outputs": [],
      "source": [
        "from matplotlib import pyplot as plt\nimport matplotlib.image as mpimg\n# subplot 1 for img\nfig = plt.figure()\nfig.add_subplot(1,2,1)\n\nplt.imshow(img)\n# subplot 2 for the mask\nmmask = mpimg.imread('mask.png')\nfig.add_subplot(1,2,2)\nplt.imshow(mmask)\n# display\nplt.show()"
      ]
    },
    {
      "cell_type": "markdown",
      "metadata": {},
      "source": [
        "Training Details\n----------------\n\n- Training Losses:\n\n    We apply a standard per-pixel Softmax Cross Entropy Loss to train PSPNet. \n    Additionally, an Auxiliary Loss as in PSPNet [Zhao17]_ at Stage 3 can be enabled when\n    training with command ``--aux``. This will create an additional FCN \"head\" after Stage 3.\n\n\n"
      ]
    },
    {
      "cell_type": "code",
      "execution_count": null,
      "metadata": {
        "collapsed": false
      },
      "outputs": [],
      "source": [
        "from gluoncv.loss import MixSoftmaxCrossEntropyLoss\ncriterion = MixSoftmaxCrossEntropyLoss(aux=True)"
      ]
    },
    {
      "cell_type": "markdown",
      "metadata": {},
      "source": [
        "- Learning Rate and Scheduling:\n\n    We use different learning rate for PSP \"head\" and the base network. For the PSP \"head\",\n    we use $10\\times$ base learning rate, because those layers are learned from scratch.\n    We use a poly-like learning rate scheduler for FCN training, provided in :class:`gluoncv.utils.LRScheduler`.\n    The learning rate is given by $lr = base_lr \\times (1-iter)^{power}$\n\n\n"
      ]
    },
    {
      "cell_type": "code",
      "execution_count": null,
      "metadata": {
        "collapsed": false
      },
      "outputs": [],
      "source": [
        "lr_scheduler = gluoncv.utils.LRScheduler(mode='poly', base_lr=0.001,\n                                         nepochs=50, iters_per_epoch=len(train_data), power=0.9)"
      ]
    },
    {
      "cell_type": "markdown",
      "metadata": {},
      "source": [
        "- Dataparallel for multi-gpu training, using cpu for demo only\n\n"
      ]
    },
    {
      "cell_type": "code",
      "execution_count": null,
      "metadata": {
        "collapsed": false
      },
      "outputs": [],
      "source": [
        "from gluoncv.utils.parallel import *\nctx_list = [mx.cpu(0)]\nmodel = DataParallelModel(model, ctx_list)\ncriterion = DataParallelCriterion(criterion, ctx_list)"
      ]
    },
    {
      "cell_type": "markdown",
      "metadata": {},
      "source": [
        "- Create SGD solver\n\n"
      ]
    },
    {
      "cell_type": "code",
      "execution_count": null,
      "metadata": {
        "collapsed": false
      },
      "outputs": [],
      "source": [
        "kv = mx.kv.create('local')\noptimizer = gluon.Trainer(model.module.collect_params(), 'sgd',\n                          {'lr_scheduler': lr_scheduler,\n                           'wd':0.0001,\n                           'momentum': 0.9,\n                           'multi_precision': True},\n                          kvstore = kv)"
      ]
    },
    {
      "cell_type": "markdown",
      "metadata": {},
      "source": [
        "The training loop\n-----------------\n\n\n"
      ]
    },
    {
      "cell_type": "code",
      "execution_count": null,
      "metadata": {
        "collapsed": false
      },
      "outputs": [],
      "source": [
        "train_loss = 0.0\nepoch = 0\nfor i, (data, target) in enumerate(train_data):\n    with autograd.record(True):\n        outputs = model(data)\n        losses = criterion(outputs, target)\n        mx.nd.waitall()\n        autograd.backward(losses)\n    optimizer.step(batch_size)\n    for loss in losses:\n        train_loss += loss.asnumpy()[0] / len(losses)\n    print('Epoch %d, batch %d, training loss %.3f'%(epoch, i, train_loss/(i+1)))\n    # just demo for 2 iters\n    if i > 1:\n        print('Terminated for this demo...')\n        break"
      ]
    },
    {
      "cell_type": "markdown",
      "metadata": {},
      "source": [
        "You can `Start Training Now`_.\n\nReferences\n----------\n\n.. [Long15] Long, Jonathan, Evan Shelhamer, and Trevor Darrell. \\\n    \"Fully convolutional networks for semantic segmentation.\" \\\n    Proceedings of the IEEE conference on computer vision and pattern recognition. 2015.\n\n.. [Zhao17] Zhao, Hengshuang, Jianping Shi, Xiaojuan Qi, Xiaogang Wang, and Jiaya Jia. \\\n    \"Pyramid scene parsing network.\" IEEE Conf. on Computer Vision and Pattern Recognition (CVPR). 2017.\n\n\n"
      ]
    }
  ],
  "metadata": {
    "kernelspec": {
      "display_name": "Python 3",
      "language": "python",
      "name": "python3"
    },
    "language_info": {
      "codemirror_mode": {
        "name": "ipython",
        "version": 3
      },
      "file_extension": ".py",
      "mimetype": "text/x-python",
      "name": "python",
      "nbconvert_exporter": "python",
      "pygments_lexer": "ipython3",
      "version": "3.7.4"
    }
  },
  "nbformat": 4,
  "nbformat_minor": 0
}