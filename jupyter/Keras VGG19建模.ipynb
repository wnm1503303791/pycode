{
 "cells": [
  {
   "cell_type": "markdown",
   "metadata": {},
   "source": [
    "# 使用keras搭建VGG模型进行图像识别"
   ]
  },
  {
   "cell_type": "code",
   "execution_count": null,
   "metadata": {},
   "outputs": [],
   "source": [
    "import keras\n",
    "from keras.applications.vgg19 import VGG19\n",
    "from keras.applications.vgg19 import preprocess_input, decode_predictions\n",
    "from PIL import Image\n",
    "import numpy as np\n",
    "import os.path\n",
    "\n",
    "model = VGG19(weights='imagenet')\n",
    "\n",
    "while True:\n",
    "\timg_path = input('Please input picture file to predict ( input Q to exit ):  ')\n",
    "\tif img_path == 'Q':\n",
    "\t\tbreak\n",
    "\tif not os.path.exists(img_path):\n",
    "\t\tprint(\"file not exist!\")\n",
    "\t\tcontinue\n",
    "\ttry:\n",
    "\t\timg = Image.open(img_path)\n",
    "\t\tori_w,ori_h = img.size\n",
    "\t\tnew_w = 224.0;\n",
    "\t\tnew_h = 224.0;\n",
    "        #图像预处理\n",
    "\t\tif ori_w > ori_h:\n",
    "\t\t\tbs = 224.0 / ori_h;  #将原图按比例缩放\n",
    "\t\t\tnew_w = ori_w * bs\n",
    "\t\t\tweight = int(new_w)\n",
    "\t\t\theight = int(new_h)\n",
    "\t\t\timg = img.resize( (weight, height), Image.BILINEAR )  #完成缩放\n",
    "\t\t\tregion = ( weight / 2 - 112, 0, weight / 2 + 112, height)\n",
    "\t\t\timg = img.crop( region )\n",
    "\t\telse:\n",
    "\t\t\tbs = 224.0 / ori_w;\n",
    "\t\t\tnew_h = ori_h * bs\n",
    "\t\t\tweight = int(new_w)\n",
    "\t\t\theight = int(new_h)\n",
    "\t\t\timg = img.resize( (weight, height), Image.BILINEAR )\n",
    "\t\t\tregion = ( 0, height / 2 - 112 , weight, height / 2 + 112  )\n",
    "\t\t\timg = img.crop( region )\n",
    "        #将预处理后的图片转换为numpy的矩阵形式\n",
    "\t\tx = np.array( img, dtype = 'float32' )\n",
    "\t\tx[:, :, 0] = x[:, :, 0] - 123.680\n",
    "\t\tx[:, :, 1] = x[:, :, 1] - 116.779\n",
    "\t\tx[:, :, 2] = x[:, :, 2] - 103.939\n",
    "\t\tx = np.expand_dims(x, axis=0)\n",
    "\t\tresults = model.predict(x)\n",
    "\t\tprint('Predicted:', decode_predictions(results, top=10)[0])\n",
    "\texcept Exception as e:\n",
    "\t\tpass"
   ]
  },
  {
   "cell_type": "code",
   "execution_count": null,
   "metadata": {},
   "outputs": [],
   "source": [
    "解释一下代码：\n",
    "首先这个代码是不包含已训练好的模型的，第一次运行需要下载相应的模型到Linux用户路径的.keras/models路径下。\n",
    "模型相当于是一个参考，内部包含了许多已经参与学习了的图片。此代码运行后，输入的图片只是被输入该模型进行预测，并输出top N类似的图片。"
   ]
  }
 ],
 "metadata": {
  "kernelspec": {
   "display_name": "Python [default]",
   "language": "python",
   "name": "python3"
  },
  "language_info": {
   "codemirror_mode": {
    "name": "ipython",
    "version": 3
   },
   "file_extension": ".py",
   "mimetype": "text/x-python",
   "name": "python",
   "nbconvert_exporter": "python",
   "pygments_lexer": "ipython3",
   "version": "3.6.9"
  }
 },
 "nbformat": 4,
 "nbformat_minor": 2
}
