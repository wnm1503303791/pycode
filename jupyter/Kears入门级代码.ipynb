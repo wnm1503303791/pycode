{
 "cells": [
  {
   "cell_type": "markdown",
   "metadata": {},
   "source": [
    "# Keras代码示例"
   ]
  },
  {
   "cell_type": "code",
   "execution_count": 3,
   "metadata": {},
   "outputs": [
    {
     "data": {
      "image/png": "[encoded data removed]",
      "text/plain": [
       "<Figure size 432x288 with 1 Axes>"
      ]
     },
     "metadata": {
      "needs_background": "light"
     },
     "output_type": "display_data"
    },
    {
     "name": "stdout",
     "output_type": "stream",
     "text": [
      "Epoch 1/100\n",
      "160/160 [==============================] - 0s 2ms/step - loss: 3.8140\n",
      "Epoch 2/100\n",
      "160/160 [==============================] - 0s 75us/step - loss: 1.8205\n",
      "Epoch 3/100\n",
      "160/160 [==============================] - 0s 73us/step - loss: 1.5889\n",
      "Epoch 4/100\n",
      "160/160 [==============================] - 0s 90us/step - loss: 0.6709\n",
      "Epoch 5/100\n",
      "160/160 [==============================] - 0s 146us/step - loss: 0.3618\n",
      "Epoch 6/100\n",
      "160/160 [==============================] - 0s 105us/step - loss: 0.1374\n",
      "Epoch 7/100\n",
      "160/160 [==============================] - 0s 148us/step - loss: 0.0426\n",
      "Epoch 8/100\n",
      "160/160 [==============================] - 0s 54us/step - loss: 0.0348\n",
      "Epoch 9/100\n",
      "160/160 [==============================] - 0s 56us/step - loss: 0.0458\n",
      "Epoch 10/100\n",
      "160/160 [==============================] - 0s 87us/step - loss: 0.0661\n",
      "Epoch 11/100\n",
      "160/160 [==============================] - 0s 59us/step - loss: 0.0731\n",
      "Epoch 12/100\n",
      "160/160 [==============================] - 0s 89us/step - loss: 0.0707\n",
      "Epoch 13/100\n",
      "160/160 [==============================] - 0s 137us/step - loss: 0.0615\n",
      "Epoch 14/100\n",
      "160/160 [==============================] - 0s 356us/step - loss: 0.0500\n",
      "Epoch 15/100\n",
      "160/160 [==============================] - 0s 133us/step - loss: 0.0401\n",
      "Epoch 16/100\n",
      "160/160 [==============================] - 0s 121us/step - loss: 0.0330\n",
      "Epoch 17/100\n",
      "160/160 [==============================] - 0s 430us/step - loss: 0.0289\n",
      "Epoch 18/100\n",
      "160/160 [==============================] - 0s 128us/step - loss: 0.0276\n",
      "Epoch 19/100\n",
      "160/160 [==============================] - 0s 96us/step - loss: 0.0273\n",
      "Epoch 20/100\n",
      "160/160 [==============================] - 0s 85us/step - loss: 0.0275\n",
      "Epoch 21/100\n",
      "160/160 [==============================] - 0s 92us/step - loss: 0.0278\n",
      "Epoch 22/100\n",
      "160/160 [==============================] - 0s 80us/step - loss: 0.0280\n",
      "Epoch 23/100\n",
      "160/160 [==============================] - 0s 82us/step - loss: 0.0279\n",
      "Epoch 24/100\n",
      "160/160 [==============================] - 0s 66us/step - loss: 0.0277\n",
      "Epoch 25/100\n",
      "160/160 [==============================] - 0s 44us/step - loss: 0.0274\n",
      "Epoch 26/100\n",
      "160/160 [==============================] - 0s 37us/step - loss: 0.0272\n",
      "Epoch 27/100\n",
      "160/160 [==============================] - 0s 33us/step - loss: 0.0271\n",
      "Epoch 28/100\n",
      "160/160 [==============================] - 0s 85us/step - loss: 0.0271\n",
      "Epoch 29/100\n",
      "160/160 [==============================] - 0s 97us/step - loss: 0.0273\n",
      "Epoch 30/100\n",
      "160/160 [==============================] - 0s 62us/step - loss: 0.0274\n",
      "Epoch 31/100\n",
      "160/160 [==============================] - 0s 44us/step - loss: 0.0271\n",
      "Epoch 32/100\n",
      "160/160 [==============================] - 0s 121us/step - loss: 0.0270\n",
      "Epoch 33/100\n",
      "160/160 [==============================] - 0s 45us/step - loss: 0.0271\n",
      "Epoch 34/100\n",
      "160/160 [==============================] - 0s 80us/step - loss: 0.0271\n",
      "Epoch 35/100\n",
      "160/160 [==============================] - 0s 67us/step - loss: 0.0273\n",
      "Epoch 36/100\n",
      "160/160 [==============================] - 0s 84us/step - loss: 0.0273\n",
      "Epoch 37/100\n",
      "160/160 [==============================] - 0s 148us/step - loss: 0.0271\n",
      "Epoch 38/100\n",
      "160/160 [==============================] - 0s 110us/step - loss: 0.0272\n",
      "Epoch 39/100\n",
      "160/160 [==============================] - 0s 58us/step - loss: 0.0271\n",
      "Epoch 40/100\n",
      "160/160 [==============================] - 0s 86us/step - loss: 0.0272\n",
      "Epoch 41/100\n",
      "160/160 [==============================] - 0s 51us/step - loss: 0.0272\n",
      "Epoch 42/100\n",
      "160/160 [==============================] - 0s 152us/step - loss: 0.0272\n",
      "Epoch 43/100\n",
      "160/160 [==============================] - 0s 75us/step - loss: 0.0272\n",
      "Epoch 44/100\n",
      "160/160 [==============================] - 0s 74us/step - loss: 0.0271\n",
      "Epoch 45/100\n",
      "160/160 [==============================] - 0s 55us/step - loss: 0.0270\n",
      "Epoch 46/100\n",
      "160/160 [==============================] - 0s 98us/step - loss: 0.0272\n",
      "Epoch 47/100\n",
      "160/160 [==============================] - 0s 32us/step - loss: 0.0272\n",
      "Epoch 48/100\n",
      "160/160 [==============================] - 0s 24us/step - loss: 0.0271\n",
      "Epoch 49/100\n",
      "160/160 [==============================] - 0s 23us/step - loss: 0.0272\n",
      "Epoch 50/100\n",
      "160/160 [==============================] - 0s 98us/step - loss: 0.0272\n",
      "Epoch 51/100\n",
      "160/160 [==============================] - 0s 114us/step - loss: 0.0272\n",
      "Epoch 52/100\n",
      "160/160 [==============================] - 0s 26us/step - loss: 0.0271\n",
      "Epoch 53/100\n",
      "160/160 [==============================] - 0s 79us/step - loss: 0.0271\n",
      "Epoch 54/100\n",
      "160/160 [==============================] - 0s 114us/step - loss: 0.0271\n",
      "Epoch 55/100\n",
      "160/160 [==============================] - 0s 36us/step - loss: 0.0270\n",
      "Epoch 56/100\n",
      "160/160 [==============================] - 0s 308us/step - loss: 0.0273\n",
      "Epoch 57/100\n",
      "160/160 [==============================] - 0s 84us/step - loss: 0.0271\n",
      "Epoch 58/100\n",
      "160/160 [==============================] - 0s 45us/step - loss: 0.0271\n",
      "Epoch 59/100\n",
      "160/160 [==============================] - 0s 43us/step - loss: 0.0272\n",
      "Epoch 60/100\n",
      "160/160 [==============================] - 0s 44us/step - loss: 0.0271\n",
      "Epoch 61/100\n",
      "160/160 [==============================] - 0s 69us/step - loss: 0.0271\n",
      "Epoch 62/100\n",
      "160/160 [==============================] - 0s 171us/step - loss: 0.0271\n",
      "Epoch 63/100\n",
      "160/160 [==============================] - 0s 37us/step - loss: 0.0273\n",
      "Epoch 64/100\n",
      "160/160 [==============================] - 0s 46us/step - loss: 0.0271\n",
      "Epoch 65/100\n",
      "160/160 [==============================] - 0s 86us/step - loss: 0.0273\n",
      "Epoch 66/100\n",
      "160/160 [==============================] - 0s 58us/step - loss: 0.0273\n",
      "Epoch 67/100\n",
      "160/160 [==============================] - 0s 118us/step - loss: 0.0273\n",
      "Epoch 68/100\n",
      "160/160 [==============================] - 0s 67us/step - loss: 0.0272\n",
      "Epoch 69/100\n",
      "160/160 [==============================] - 0s 337us/step - loss: 0.0274\n",
      "Epoch 70/100\n",
      "160/160 [==============================] - 0s 63us/step - loss: 0.0271\n",
      "Epoch 71/100\n",
      "160/160 [==============================] - 0s 44us/step - loss: 0.0270\n",
      "Epoch 72/100\n",
      "160/160 [==============================] - 0s 22us/step - loss: 0.0272\n",
      "Epoch 73/100\n",
      "160/160 [==============================] - 0s 94us/step - loss: 0.0271\n",
      "Epoch 74/100\n",
      "160/160 [==============================] - 0s 32us/step - loss: 0.0271\n",
      "Epoch 75/100\n",
      "160/160 [==============================] - 0s 25us/step - loss: 0.0270\n",
      "Epoch 76/100\n",
      "160/160 [==============================] - 0s 52us/step - loss: 0.0273\n",
      "Epoch 77/100\n",
      "160/160 [==============================] - 0s 65us/step - loss: 0.0270\n",
      "Epoch 78/100\n",
      "160/160 [==============================] - 0s 73us/step - loss: 0.0275\n",
      "Epoch 79/100\n",
      "160/160 [==============================] - 0s 55us/step - loss: 0.0271\n",
      "Epoch 80/100\n",
      "160/160 [==============================] - 0s 106us/step - loss: 0.0274\n",
      "Epoch 81/100\n",
      "160/160 [==============================] - 0s 55us/step - loss: 0.0271\n",
      "Epoch 82/100\n",
      "160/160 [==============================] - 0s 57us/step - loss: 0.0274\n",
      "Epoch 83/100\n",
      "160/160 [==============================] - 0s 59us/step - loss: 0.0271\n",
      "Epoch 84/100\n",
      "160/160 [==============================] - 0s 131us/step - loss: 0.0271\n",
      "Epoch 85/100\n",
      "160/160 [==============================] - 0s 41us/step - loss: 0.0272\n",
      "Epoch 86/100\n",
      "160/160 [==============================] - 0s 62us/step - loss: 0.0270\n",
      "Epoch 87/100\n",
      "160/160 [==============================] - 0s 201us/step - loss: 0.0271\n",
      "Epoch 88/100\n",
      "160/160 [==============================] - 0s 74us/step - loss: 0.0270\n",
      "Epoch 89/100\n",
      "160/160 [==============================] - 0s 40us/step - loss: 0.0271\n",
      "Epoch 90/100\n",
      "160/160 [==============================] - 0s 45us/step - loss: 0.0271\n",
      "Epoch 91/100\n",
      "160/160 [==============================] - 0s 52us/step - loss: 0.0271\n",
      "Epoch 92/100\n",
      "160/160 [==============================] - 0s 108us/step - loss: 0.0273\n",
      "Epoch 93/100\n",
      "160/160 [==============================] - 0s 73us/step - loss: 0.0271\n",
      "Epoch 94/100\n",
      "160/160 [==============================] - 0s 71us/step - loss: 0.0272\n",
      "Epoch 95/100\n",
      "160/160 [==============================] - 0s 21us/step - loss: 0.0274\n",
      "Epoch 96/100\n",
      "160/160 [==============================] - 0s 36us/step - loss: 0.0270\n",
      "Epoch 97/100\n",
      "160/160 [==============================] - 0s 64us/step - loss: 0.0271\n",
      "Epoch 98/100\n"
     ]
    },
    {
     "name": "stdout",
     "output_type": "stream",
     "text": [
      "160/160 [==============================] - 0s 26us/step - loss: 0.0271\n",
      "Epoch 99/100\n",
      "160/160 [==============================] - 0s 180us/step - loss: 0.0270\n",
      "Epoch 100/100\n",
      "160/160 [==============================] - 0s 83us/step - loss: 0.0273\n",
      "Training -----------\n",
      "train cost:  0.027104998\n",
      "train cost:  0.027003491\n",
      "train cost:  0.027002672\n",
      "train cost:  0.027002672\n",
      "train cost:  0.027002662\n",
      "40/40 [==============================] - 0s 2ms/step\n",
      "\n",
      "Testing ------------\n",
      "40/40 [==============================] - 0s 41us/step\n",
      "test cost: 0.02018672600388527\n",
      "Weights= [[0.4973421]] \n",
      "biases= [1.9995679]\n"
     ]
    },
    {
     "data": {
      "image/png": "[encoded data removed]",
      "text/plain": [
       "<Figure size 432x288 with 1 Axes>"
      ]
     },
     "metadata": {
      "needs_background": "light"
     },
     "output_type": "display_data"
    }
   ],
   "source": [
    "import tensorflow as tf\n",
    "\n",
    "import numpy as np\n",
    "import matplotlib.pyplot as plt\n",
    "\n",
    "from keras.models import Sequential\n",
    "from keras.layers import Dense\n",
    "\n",
    "from keras.optimizers import SGD\n",
    " \n",
    "X = np.linspace(-2, 6, 200)\n",
    "np.random.shuffle(X)\n",
    "Y = 0.5 * X + 2 + 0.15 * np.random.randn(200,) \n",
    " \n",
    "# plot data\n",
    "plt.scatter(X, Y)\n",
    "plt.show()\n",
    " \n",
    "X_train, Y_train = X[:160], Y[:160]     # train first 160 data points\n",
    "X_test, Y_test = X[160:], Y[160:]       # test remaining 40 data points\n",
    "\n",
    "model = Sequential()\n",
    "model.add(Dense(input_dim=1, units=1))\n",
    "\n",
    "#model.compile(loss='mse', optimizer='sgd')\n",
    "\n",
    "model.compile(loss='mse', optimizer=SGD(lr=0.01, momentum=0.9, nesterov=True))\n",
    "\n",
    "model.fit(X_train, Y_train, epochs=100, batch_size=64)\n",
    "\n",
    "#model.train_on_batch(X_batch, Y_batch)\n",
    "\n",
    "print('Training -----------')\n",
    "for step in range(100):\n",
    "    cost = model.train_on_batch(X_train, Y_train)\n",
    "    if step % 20 == 0:\n",
    "        print('train cost: ', cost)\n",
    "\n",
    "cost = model.evaluate(X_test, Y_test, batch_size=40)\n",
    "\n",
    "\n",
    "print('\\nTesting ------------')\n",
    "loss_and_metrics = model.evaluate(X_test, Y_test, batch_size=40)\n",
    "print('test cost:', cost)\n",
    "W, b = model.layers[0].get_weights()\n",
    "print('Weights=', W, '\\nbiases=', b)\n",
    "\n",
    "Y_pred = model.predict(X_test)\n",
    "plt.scatter(X_test, Y_test)\n",
    "plt.plot(X_test, Y_pred)\n",
    "plt.show()"
   ]
  },
  {
   "cell_type": "markdown",
   "metadata": {},
   "source": [
    "很简单的代码，代码只是用了一层全连接层，而且只有一个神经元（因为所要求解的线性回归问题比较简单），下面的代码将使用一个比较复杂的神经网络模型。"
   ]
  },
  {
   "cell_type": "markdown",
   "metadata": {},
   "source": [
    "# Keras神经网络代码示例"
   ]
  },
  {
   "cell_type": "code",
   "execution_count": 5,
   "metadata": {},
   "outputs": [
    {
     "name": "stdout",
     "output_type": "stream",
     "text": [
      "(60000, 28, 28) (60000,)\n",
      "(10000, 28, 28) (10000,)\n"
     ]
    }
   ],
   "source": [
    "import numpy as np\n",
    "import random\n",
    "import keras\n",
    "import matplotlib.pyplot as plt\n",
    "%matplotlib inline\n",
    " \n",
    "from keras.datasets import mnist\n",
    "from keras.models import Sequential, Model\n",
    "from keras.layers.core import Dense, Dropout, Activation\n",
    "from keras.optimizers import RMSprop\n",
    "from keras.utils import np_utils\n",
    " \n",
    "(X_train, y_train), (X_test, y_test) = mnist.load_data()\n",
    " \n",
    "print(X_train.shape, y_train.shape)\n",
    "print(X_test.shape, y_test.shape)"
   ]
  },
  {
   "cell_type": "markdown",
   "metadata": {},
   "source": [
    "首先导入数据集"
   ]
  },
  {
   "cell_type": "code",
   "execution_count": 6,
   "metadata": {},
   "outputs": [],
   "source": [
    "\n",
    "X_train = X_train.reshape(X_train.shape[0], -1) # 等价于X_train = X_train.reshape(60000,784)\n",
    "X_test = X_test.reshape(X_test.shape[0], -1)    # 等价于X_test = X_test.reshape(10000,784)\n",
    "X_train = X_train.astype(\"float32\")\n",
    "X_test = X_test.astype(\"float32\")\n",
    "X_train /= 255\n",
    "X_test /= 255"
   ]
  },
  {
   "cell_type": "code",
   "execution_count": 7,
   "metadata": {},
   "outputs": [
    {
     "name": "stdout",
     "output_type": "stream",
     "text": [
      "[[0. 0. 0. ... 0. 0. 0.]\n",
      " [0. 0. 0. ... 0. 0. 0.]\n",
      " [0. 0. 0. ... 0. 0. 0.]\n",
      " ...\n",
      " [0. 0. 0. ... 0. 0. 0.]\n",
      " [0. 0. 0. ... 0. 0. 0.]\n",
      " [0. 0. 0. ... 0. 0. 0.]]\n"
     ]
    }
   ],
   "source": [
    "print(X_test)"
   ]
  },
  {
   "cell_type": "code",
   "execution_count": 8,
   "metadata": {},
   "outputs": [],
   "source": [
    "y_train = np_utils.to_categorical(y_train, num_classes=10)\n",
    "y_test = np_utils.to_categorical(y_test, num_classes=10)"
   ]
  },
  {
   "cell_type": "code",
   "execution_count": 9,
   "metadata": {},
   "outputs": [
    {
     "name": "stderr",
     "output_type": "stream",
     "text": [
      "W0911 21:41:36.194668 140116856112960 deprecation.py:506] From /home/tuzhuo/app/anaconda3/envs/tensorflow_env1/lib/python3.6/site-packages/keras/backend/tensorflow_backend.py:3445: calling dropout (from tensorflow.python.ops.nn_ops) with keep_prob is deprecated and will be removed in a future version.\n",
      "Instructions for updating:\n",
      "Please use `rate` instead of `keep_prob`. Rate should be set to `rate = 1 - keep_prob`.\n"
     ]
    }
   ],
   "source": [
    "model = Sequential()\n",
    "model.add(Dense(512, input_shape=(784,)))\n",
    "model.add(Activation('relu'))\n",
    "model.add(Dropout(0.2))\n",
    "model.add(Dense(512))\n",
    "model.add(Activation('relu'))\n",
    "model.add(Dropout(0.2))\n",
    "model.add(Dense(10))\n",
    "model.add(Activation('softmax'))"
   ]
  },
  {
   "cell_type": "code",
   "execution_count": 10,
   "metadata": {},
   "outputs": [
    {
     "name": "stdout",
     "output_type": "stream",
     "text": [
      "_________________________________________________________________\n",
      "Layer (type)                 Output Shape              Param #   \n",
      "=================================================================\n",
      "dense_3 (Dense)              (None, 512)               401920    \n",
      "_________________________________________________________________\n",
      "activation_1 (Activation)    (None, 512)               0         \n",
      "_________________________________________________________________\n",
      "dropout_1 (Dropout)          (None, 512)               0         \n",
      "_________________________________________________________________\n",
      "dense_4 (Dense)              (None, 512)               262656    \n",
      "_________________________________________________________________\n",
      "activation_2 (Activation)    (None, 512)               0         \n",
      "_________________________________________________________________\n",
      "dropout_2 (Dropout)          (None, 512)               0         \n",
      "_________________________________________________________________\n",
      "dense_5 (Dense)              (None, 10)                5130      \n",
      "_________________________________________________________________\n",
      "activation_3 (Activation)    (None, 10)                0         \n",
      "=================================================================\n",
      "Total params: 669,706\n",
      "Trainable params: 669,706\n",
      "Non-trainable params: 0\n",
      "_________________________________________________________________\n"
     ]
    }
   ],
   "source": [
    "model.summary()"
   ]
  },
  {
   "cell_type": "code",
   "execution_count": 11,
   "metadata": {},
   "outputs": [],
   "source": [
    "model.compile(loss = 'categorical_crossentropy',\n",
    "             optimizer = 'rmsprop', #RMSprop()\n",
    "             metrics=['accuracy'])"
   ]
  },
  {
   "cell_type": "code",
   "execution_count": 12,
   "metadata": {},
   "outputs": [],
   "source": [
    "rmsprop = RMSprop(lr=0.001, rho=0.9, epsilon=1e-08, decay=0.0)\n",
    " \n",
    "# metrics means you want to get more results during the training process\n",
    "model.compile(optimizer=rmsprop,\n",
    "              loss='categorical_crossentropy',\n",
    "              metrics=['accuracy'])"
   ]
  },
  {
   "cell_type": "code",
   "execution_count": 13,
   "metadata": {},
   "outputs": [
    {
     "name": "stderr",
     "output_type": "stream",
     "text": [
      "W0911 21:43:28.815259 140116856112960 deprecation.py:323] From /home/tuzhuo/app/anaconda3/envs/tensorflow_env1/lib/python3.6/site-packages/tensorflow/python/ops/math_grad.py:1250: add_dispatch_support.<locals>.wrapper (from tensorflow.python.ops.array_ops) is deprecated and will be removed in a future version.\n",
      "Instructions for updating:\n",
      "Use tf.where in 2.0, which has the same broadcast rule as np.where\n"
     ]
    },
    {
     "name": "stdout",
     "output_type": "stream",
     "text": [
      "Train on 60000 samples, validate on 10000 samples\n",
      "Epoch 1/10\n",
      "60000/60000 [==============================] - 10s 174us/step - loss: 0.2449 - acc: 0.9246 - val_loss: 0.1190 - val_acc: 0.9625\n",
      "Epoch 2/10\n",
      "60000/60000 [==============================] - 10s 162us/step - loss: 0.1035 - acc: 0.9684 - val_loss: 0.0876 - val_acc: 0.9754\n",
      "Epoch 3/10\n",
      "60000/60000 [==============================] - 10s 169us/step - loss: 0.0754 - acc: 0.9772 - val_loss: 0.0920 - val_acc: 0.9741\n",
      "Epoch 4/10\n",
      "60000/60000 [==============================] - 10s 169us/step - loss: 0.0597 - acc: 0.9823 - val_loss: 0.0742 - val_acc: 0.9800\n",
      "Epoch 5/10\n",
      "60000/60000 [==============================] - 10s 165us/step - loss: 0.0516 - acc: 0.9845 - val_loss: 0.0866 - val_acc: 0.9769\n",
      "Epoch 6/10\n",
      "60000/60000 [==============================] - 10s 159us/step - loss: 0.0443 - acc: 0.9867 - val_loss: 0.0695 - val_acc: 0.9832\n",
      "Epoch 7/10\n",
      "60000/60000 [==============================] - 9s 154us/step - loss: 0.0385 - acc: 0.9885 - val_loss: 0.0966 - val_acc: 0.9804\n",
      "Epoch 8/10\n",
      "60000/60000 [==============================] - 9s 149us/step - loss: 0.0360 - acc: 0.9899 - val_loss: 0.0828 - val_acc: 0.9818\n",
      "Epoch 9/10\n",
      "60000/60000 [==============================] - 9s 149us/step - loss: 0.0321 - acc: 0.9900 - val_loss: 0.0754 - val_acc: 0.9846\n",
      "Epoch 10/10\n",
      "60000/60000 [==============================] - 9s 153us/step - loss: 0.0289 - acc: 0.9915 - val_loss: 0.0923 - val_acc: 0.9814\n"
     ]
    }
   ],
   "source": [
    "history = model.fit(X_train, y_train, epochs=10, batch_size=128,\n",
    "                   verbose = 1, validation_data=[X_test, y_test])"
   ]
  },
  {
   "cell_type": "code",
   "execution_count": 17,
   "metadata": {},
   "outputs": [
    {
     "data": {
      "text/plain": [
       "{'batch_size': 128,\n",
       " 'epochs': 10,\n",
       " 'steps': None,\n",
       " 'samples': 60000,\n",
       " 'verbose': 1,\n",
       " 'do_validation': True,\n",
       " 'metrics': ['loss', 'acc', 'val_loss', 'val_acc']}"
      ]
     },
     "execution_count": 17,
     "metadata": {},
     "output_type": "execute_result"
    }
   ],
   "source": [
    "history.params\n",
    "#print(history.params)"
   ]
  },
  {
   "cell_type": "code",
   "execution_count": 18,
   "metadata": {},
   "outputs": [
    {
     "name": "stdout",
     "output_type": "stream",
     "text": [
      "Test score: 0.09227967085614919\n",
      "Test accuracy: 0.9814\n"
     ]
    }
   ],
   "source": [
    "score = model.evaluate(X_test, y_test, verbose = 0)\n",
    "print('Test score:', score[0])\n",
    "print('Test accuracy:', score[1])"
   ]
  },
  {
   "cell_type": "code",
   "execution_count": 19,
   "metadata": {},
   "outputs": [
    {
     "data": {
      "text/plain": [
       "<matplotlib.image.AxesImage at 0x7f6f09094c88>"
      ]
     },
     "execution_count": 19,
     "metadata": {},
     "output_type": "execute_result"
    },
    {
     "data": {
      "image/png": "[encoded data removed]",
      "text/plain": [
       "<Figure size 432x288 with 1 Axes>"
      ]
     },
     "metadata": {
      "needs_background": "light"
     },
     "output_type": "display_data"
    }
   ],
   "source": [
    "X_test_0 = X_test[0,:].reshape(1,784)\n",
    "y_test_0 = y_test[0,:]\n",
    "plt.imshow(X_test_0.reshape([28,28]))"
   ]
  },
  {
   "cell_type": "code",
   "execution_count": 20,
   "metadata": {},
   "outputs": [
    {
     "name": "stdout",
     "output_type": "stream",
     "text": [
      "Label of testing sample 7\n",
      "Output of the softmax layer [1.6563187e-21 3.7927205e-16 2.6142285e-13 9.6208883e-12 1.8004545e-23\n",
      " 1.9303824e-16 2.0564899e-30 1.0000000e+00 3.0900037e-18 1.8976576e-13]\n",
      "Network prediction: 7\n"
     ]
    }
   ],
   "source": [
    "pred = model.predict(X_test_0[:])\n",
    "print('Label of testing sample', np.argmax(y_test_0))\n",
    "print('Output of the softmax layer', pred[0])\n",
    "print('Network prediction:', np.argmax([pred[0]]))"
   ]
  },
  {
   "cell_type": "code",
   "execution_count": null,
   "metadata": {},
   "outputs": [],
   "source": []
  }
 ],
 "metadata": {
  "kernelspec": {
   "display_name": "Python 3",
   "language": "python",
   "name": "python3"
  },
  "language_info": {
   "codemirror_mode": {
    "name": "ipython",
    "version": 3
   },
   "file_extension": ".py",
   "mimetype": "text/x-python",
   "name": "python",
   "nbconvert_exporter": "python",
   "pygments_lexer": "ipython3",
   "version": "3.6.9"
  }
 },
 "nbformat": 4,
 "nbformat_minor": 2
}
