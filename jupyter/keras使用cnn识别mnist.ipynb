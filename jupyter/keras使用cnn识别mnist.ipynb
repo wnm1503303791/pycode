{
 "cells": [
  {
   "cell_type": "markdown",
   "metadata": {},
   "source": [
    "# Keras_CNN"
   ]
  },
  {
   "cell_type": "code",
   "execution_count": null,
   "metadata": {},
   "outputs": [
    {
     "name": "stderr",
     "output_type": "stream",
     "text": [
      "WARNING: Logging before flag parsing goes to stderr.\n",
      "W0911 20:15:18.469715 140581566777152 deprecation_wrapper.py:119] From /home/tuzhuo/app/anaconda3/envs/tensorflow_env1/lib/python3.6/site-packages/keras/backend/tensorflow_backend.py:74: The name tf.get_default_graph is deprecated. Please use tf.compat.v1.get_default_graph instead.\n",
      "\n",
      "/home/tuzhuo/app/anaconda3/envs/tensorflow_env1/lib/python3.6/site-packages/ipykernel_launcher.py:33: UserWarning: Update your `Conv2D` call to the Keras 2 API: `Conv2D(input_shape=(1, 28, 28..., kernel_size=(5, 5), filters=32, padding=\"same\")`\n",
      "W0911 20:15:18.502512 140581566777152 deprecation_wrapper.py:119] From /home/tuzhuo/app/anaconda3/envs/tensorflow_env1/lib/python3.6/site-packages/keras/backend/tensorflow_backend.py:517: The name tf.placeholder is deprecated. Please use tf.compat.v1.placeholder instead.\n",
      "\n",
      "W0911 20:15:18.504895 140581566777152 deprecation_wrapper.py:119] From /home/tuzhuo/app/anaconda3/envs/tensorflow_env1/lib/python3.6/site-packages/keras/backend/tensorflow_backend.py:4138: The name tf.random_uniform is deprecated. Please use tf.random.uniform instead.\n",
      "\n",
      "/home/tuzhuo/app/anaconda3/envs/tensorflow_env1/lib/python3.6/site-packages/ipykernel_launcher.py:43: UserWarning: Update your `MaxPooling2D` call to the Keras 2 API: `MaxPooling2D(pool_size=(2, 2), strides=(2, 2), padding=\"same\")`\n",
      "W0911 20:15:18.528563 140581566777152 deprecation_wrapper.py:119] From /home/tuzhuo/app/anaconda3/envs/tensorflow_env1/lib/python3.6/site-packages/keras/backend/tensorflow_backend.py:3976: The name tf.nn.max_pool is deprecated. Please use tf.nn.max_pool2d instead.\n",
      "\n",
      "/home/tuzhuo/app/anaconda3/envs/tensorflow_env1/lib/python3.6/site-packages/ipykernel_launcher.py:47: UserWarning: Update your `Conv2D` call to the Keras 2 API: `Conv2D(64, (5, 5), padding=\"same\")`\n",
      "/home/tuzhuo/app/anaconda3/envs/tensorflow_env1/lib/python3.6/site-packages/ipykernel_launcher.py:49: UserWarning: Update your `MaxPooling2D` call to the Keras 2 API: `MaxPooling2D(pool_size=(2, 2), padding=\"same\")`\n",
      "W0911 20:15:18.632657 140581566777152 deprecation_wrapper.py:119] From /home/tuzhuo/app/anaconda3/envs/tensorflow_env1/lib/python3.6/site-packages/keras/optimizers.py:790: The name tf.train.Optimizer is deprecated. Please use tf.compat.v1.train.Optimizer instead.\n",
      "\n",
      "W0911 20:15:18.641997 140581566777152 deprecation_wrapper.py:119] From /home/tuzhuo/app/anaconda3/envs/tensorflow_env1/lib/python3.6/site-packages/keras/backend/tensorflow_backend.py:3295: The name tf.log is deprecated. Please use tf.math.log instead.\n",
      "\n",
      "/home/tuzhuo/app/anaconda3/envs/tensorflow_env1/lib/python3.6/site-packages/ipykernel_launcher.py:74: UserWarning: The `nb_epoch` argument in `fit` has been renamed `epochs`.\n",
      "W0911 20:15:18.812275 140581566777152 deprecation.py:323] From /home/tuzhuo/app/anaconda3/envs/tensorflow_env1/lib/python3.6/site-packages/tensorflow/python/ops/math_grad.py:1250: add_dispatch_support.<locals>.wrapper (from tensorflow.python.ops.array_ops) is deprecated and will be removed in a future version.\n",
      "Instructions for updating:\n",
      "Use tf.where in 2.0, which has the same broadcast rule as np.where\n"
     ]
    },
    {
     "name": "stdout",
     "output_type": "stream",
     "text": [
      "\n",
      "Training-----------\n"
     ]
    },
    {
     "name": "stderr",
     "output_type": "stream",
     "text": [
      "W0911 20:15:18.943544 140581566777152 deprecation_wrapper.py:119] From /home/tuzhuo/app/anaconda3/envs/tensorflow_env1/lib/python3.6/site-packages/keras/backend/tensorflow_backend.py:986: The name tf.assign_add is deprecated. Please use tf.compat.v1.assign_add instead.\n",
      "\n"
     ]
    },
    {
     "name": "stdout",
     "output_type": "stream",
     "text": [
      "Epoch 1/2\n",
      "60000/60000 [==============================] - 45s 752us/step - loss: 0.3123 - acc: 0.9161\n",
      "Epoch 2/2\n",
      " 4928/60000 [=>............................] - ETA: 37s - loss: 0.1035 - acc: 0.9673"
     ]
    }
   ],
   "source": [
    "import numpy as np\n",
    "np.random.seed(1337)\n",
    "\n",
    "from keras.datasets import  mnist\n",
    "from keras.utils import np_utils\n",
    "from keras.models import Sequential\n",
    "from keras.layers import Dense,Activation,Convolution2D,MaxPooling2D,Flatten\n",
    "from keras.optimizers import Adam\n",
    "\n",
    "\n",
    "# download the mnist to the path '~/.keras/datasets/' if it is the first time to be called\n",
    "# X shape (60,000 28x28), y shape (10,000, )\n",
    "(X_train, y_train), (X_test, y_test) = mnist.load_data()\n",
    "\n",
    "# data pre-processing，-1 represents the number of samples;1 represents the num of channels,28&28 represents the length,width respectively\n",
    "X_train = X_train.reshape(-1,1,28,28)  # normalize\n",
    "X_test = X_test.reshape(-1,1,28,28)    # normalize\n",
    "y_train = np_utils.to_categorical(y_train, 10)\n",
    "y_test = np_utils.to_categorical(y_test, 10)\n",
    "\n",
    "\n",
    "#build neural network\n",
    "\n",
    "model=Sequential(\n",
    ")\n",
    "\n",
    "model.add(Convolution2D(\n",
    "    nb_filter=32,\n",
    "    nb_col=5,\n",
    "    nb_row=5,\n",
    "    border_mode='same', #padding method\n",
    "    input_shape=(1,     #channels\n",
    "                 28,28) #length and width\n",
    "\n",
    "))\n",
    "\n",
    "model.add(Activation('relu'))\n",
    "\n",
    "\n",
    "model.add(MaxPooling2D(\n",
    "    pool_size=(2,2),\n",
    "    strides=(2,2),\n",
    "    border_mode='same', #padding method\n",
    "))\n",
    "\n",
    "#这是添加第二层神经网络，卷积层，激励函数，池化层\n",
    "model.add(Convolution2D(64,5,5,border_mode='same'))\n",
    "model.add(Activation('relu'))\n",
    "model.add(MaxPooling2D(pool_size=(2,2),border_mode='same'))\n",
    "\n",
    "#将经过池化层之后的三维特征，整理成一维。方便后面建立全链接层\n",
    "model.add(Flatten())\n",
    "#1024像素\n",
    "model.add(Dense(1024))\n",
    "\n",
    "model.add(Activation('relu'))\n",
    "#输出压缩到10维，因为有10个标记\n",
    "model.add(Dense(10))\n",
    "#使用softmax进行分类\n",
    "model.add(Activation('softmax'))\n",
    "\n",
    "\n",
    "\n",
    "# Another way to define your optimize\n",
    "\n",
    "adam=Adam(lr=1e-4)\n",
    "\n",
    "model.compile(\n",
    "    loss='categorical_crossentropy',\n",
    "    optimizer=adam,\n",
    "    metrics=['accuracy'])\n",
    "\n",
    "print('\\nTraining-----------')\n",
    "model.fit(X_train,y_train,nb_epoch=2,batch_size=32)\n",
    "\n",
    "print('\\nTesting------------')\n",
    "loss,accuracy=model.evaluate(X_test,y_test)\n",
    "\n",
    "\n",
    "print('test loss: ', loss)\n",
    "print('test accuracy: ', accuracy)"
   ]
  },
  {
   "cell_type": "code",
   "execution_count": null,
   "metadata": {},
   "outputs": [],
   "source": []
  }
 ],
 "metadata": {
  "kernelspec": {
   "display_name": "Python 3",
   "language": "python",
   "name": "python3"
  },
  "language_info": {
   "codemirror_mode": {
    "name": "ipython",
    "version": 3
   },
   "file_extension": ".py",
   "mimetype": "text/x-python",
   "name": "python",
   "nbconvert_exporter": "python",
   "pygments_lexer": "ipython3",
   "version": "3.6.9"
  }
 },
 "nbformat": 4,
 "nbformat_minor": 2
}
